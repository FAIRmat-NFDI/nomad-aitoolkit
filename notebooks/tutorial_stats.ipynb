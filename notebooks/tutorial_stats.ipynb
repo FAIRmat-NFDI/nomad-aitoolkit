{
 "cells": [
  {
   "cell_type": "markdown",
   "metadata": {},
   "source": [
    "# Migration tool \"analitics\" notebooks\n",
    "\n",
    "Generate legacy list of tools:\n",
    "```bash \n",
    "nomad dev  toolkit-metadata > tutorials.jso\n",
    "```"
   ]
  },
  {
   "cell_type": "code",
   "execution_count": null,
   "metadata": {},
   "outputs": [],
   "source": [
    "import json\n",
    "\n",
    "with open('tutorials.json') as f:\n",
    "    tutorials = json.load(f)['tutorials']\n",
    "\n",
    "print(tutorials)"
   ]
  },
  {
   "cell_type": "code",
   "execution_count": null,
   "metadata": {},
   "outputs": [],
   "source": [
    "keys = set()\n",
    "for tutorial in tutorials:\n",
    "    keys.update(list(tutorial.keys()))\n",
    "keys"
   ]
  },
  {
   "cell_type": "code",
   "execution_count": null,
   "metadata": {},
   "outputs": [],
   "source": [
    "keys = set()\n",
    "for tutorial in tutorials:\n",
    "    keys.update(list(tutorial.get('flags', {}).keys()))\n",
    "'flags', keys"
   ]
  },
  {
   "cell_type": "code",
   "execution_count": null,
   "metadata": {},
   "outputs": [],
   "source": [
    "keys = set()\n",
    "for tutorial in tutorials:\n",
    "    keys.update(list(tutorial['labels'].keys()))\n",
    "keys"
   ]
  },
  {
   "cell_type": "code",
   "execution_count": null,
   "metadata": {},
   "outputs": [],
   "source": [
    "keys = set()\n",
    "for tutorial in tutorials:\n",
    "    keys.update(list(tutorial.get('labels').get('application_keyword', [])))\n",
    "keys"
   ]
  },
  {
   "cell_type": "code",
   "execution_count": null,
   "metadata": {},
   "outputs": [],
   "source": [
    "keys = set()\n",
    "for tutorial in tutorials:\n",
    "    keys.update(list(tutorial.get('labels').get('application_section', [])))\n",
    "keys"
   ]
  },
  {
   "cell_type": "code",
   "execution_count": null,
   "metadata": {},
   "outputs": [],
   "source": [
    "keys = set()\n",
    "for tutorial in tutorials:\n",
    "    keys.update(list(tutorial.get('labels').get('application_system', [])))\n",
    "keys"
   ]
  },
  {
   "cell_type": "code",
   "execution_count": null,
   "metadata": {},
   "outputs": [],
   "source": [
    "keys = set()\n",
    "for tutorial in tutorials:\n",
    "    keys.update(list(tutorial.get('labels').get('category')))\n",
    "keys"
   ]
  },
  {
   "cell_type": "code",
   "execution_count": null,
   "metadata": {},
   "outputs": [],
   "source": [
    "keys = set()\n",
    "for tutorial in tutorials:\n",
    "    keys.update(list(tutorial.get('labels').get('ai_methods', [])))\n",
    "keys"
   ]
  },
  {
   "cell_type": "code",
   "execution_count": null,
   "metadata": {},
   "outputs": [],
   "source": [
    "keys = set()\n",
    "for tutorial in tutorials:\n",
    "    keys.update(list(tutorial.get('labels').get('language', [])))\n",
    "keys"
   ]
  },
  {
   "cell_type": "code",
   "execution_count": null,
   "metadata": {},
   "outputs": [],
   "source": [
    "keys = set()\n",
    "for tutorial in tutorials:\n",
    "    keys.update(list(tutorial.get('labels').get('platform')))\n",
    "keys"
   ]
  },
  {
   "cell_type": "code",
   "execution_count": null,
   "metadata": {},
   "outputs": [],
   "source": [
    "tutorial = tutorials[0]\n",
    "tutorial"
   ]
  },
  {
   "cell_type": "code",
   "execution_count": null,
   "metadata": {},
   "outputs": [],
   "source": [
    "authors = []\n",
    "for author in tutorial.get('authors'):\n",
    "    last_name, first_name = author.split(',', 1)\n",
    "    authors.append({'last_name': last_name.strip(), 'first_name': first_name.strip()})\n",
    "\n",
    "authors[-1]['email'] = tutorial.get('email')\n",
    "authors"
   ]
  },
  {
   "cell_type": "code",
   "execution_count": null,
   "metadata": {},
   "outputs": [],
   "source": [
    "map_categories = {\n",
    "    'advanced_tutorial': 'Advanced tutorial',\n",
    "    'beginner_tutorial': 'Beginner tutorial',\n",
    "    'intermediate_tutorial': 'Intermediate tutorial',\n",
    "    'query_tutorial': 'Query tutorial',\n",
    "}"
   ]
  },
  {
   "cell_type": "code",
   "execution_count": null,
   "metadata": {},
   "outputs": [],
   "source": [
    "def build_new_tutorial(tutorial):\n",
    "    new = {\n",
    "        'm_def': 'nomad_aitoolkit.schema.AIToolkitNotebook',\n",
    "        'name': tutorial['title'],\n",
    "        'description': tutorial['description'],\n",
    "        'date': tutorial['updated'],\n",
    "        'category': map_categories[tutorial['labels']['category'][0]],\n",
    "        'methods': [{'name': v} for v in tutorial['labels']['ai_methods']],\n",
    "        'applications': [{'name': v} for v in tutorial['labels']['application_system']],\n",
    "        'platform': 'Python',\n",
    "    }\n",
    "\n",
    "    new['authors'] = []\n",
    "    for author in tutorial['authors']:\n",
    "        last_name, first_name = author.split(',', 1)\n",
    "\n",
    "        new['authors'].append(\n",
    "            {'last_name': last_name.strip(), 'first_name': first_name.strip()}\n",
    "        )\n",
    "\n",
    "    # print(tutorial.get('email'))\n",
    "    # new['authors'][-1]['email'] = tutorial.get('email')\n",
    "\n",
    "    new['references'] = []\n",
    "\n",
    "    if tutorial.get('link_doi_paper'):\n",
    "        # new['related_publications'] = [\n",
    "        #     {\n",
    "        #         'DOI_number': tutorial.get('link_doi_paper')\n",
    "        #     }\n",
    "        # ]\n",
    "\n",
    "        new['references'].append(\n",
    "            {'kind': 'article_doi', 'uri': tutorial.get('link_doi_paper')}\n",
    "        )\n",
    "\n",
    "    if tutorial.get('link_public'):\n",
    "        new['references'].append({'kind': 'hub', 'uri': tutorial['link_public']})\n",
    "\n",
    "    if tutorial.get('link_paper'):\n",
    "        new['references'].append({'kind': 'article_url', 'uri': tutorial['link_paper']})\n",
    "\n",
    "    if tutorial.get('url'):\n",
    "        new['references'].append({'kind': 'repository', 'uri': tutorial['url']})\n",
    "\n",
    "    if tutorial.get('link_video'):\n",
    "        new['references'].append({'kind': 'video', 'uri': tutorial['link_video']})\n",
    "\n",
    "    slug = tutorial['url'].rsplit('/', 1)[1]\n",
    "    if slug.startswith('analytics-'):\n",
    "        slug = slug[10:]\n",
    "\n",
    "    return slug, {'data': new}\n",
    "\n",
    "\n",
    "for tutorial in tutorials:\n",
    "    slug, new_tutorial = build_new_tutorial(tutorial)\n",
    "\n",
    "    with open(slug + '.archive.json', 'w') as outfile:\n",
    "        json.dump(new_tutorial, outfile, indent=2)"
   ]
  },
  {
   "cell_type": "code",
   "execution_count": null,
   "metadata": {},
   "outputs": [],
   "source": []
  },
  {
   "cell_type": "code",
   "execution_count": null,
   "metadata": {},
   "outputs": [],
   "source": []
  }
 ],
 "metadata": {
  "kernelspec": {
   "display_name": ".venv",
   "language": "python",
   "name": "python3"
  },
  "language_info": {
   "codemirror_mode": {
    "name": "ipython",
    "version": 3
   },
   "file_extension": ".py",
   "mimetype": "text/x-python",
   "name": "python",
   "nbconvert_exporter": "python",
   "pygments_lexer": "ipython3",
   "version": "3.12.7"
  },
  "orig_nbformat": 4
 },
 "nbformat": 4,
 "nbformat_minor": 2
}
