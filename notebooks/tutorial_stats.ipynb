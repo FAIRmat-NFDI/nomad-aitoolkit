{
 "cells": [
  {
   "cell_type": "code",
   "execution_count": 29,
   "metadata": {},
   "outputs": [
    {
     "name": "stdout",
     "output_type": "stream",
     "text": [
      "[{'authors': ['Arif, Mohammad-Yasin', 'Sbailò, Luigi', 'Ghiringhelli, Luca M.'], 'email': 'ghiringhelli@fhi-berlin.mpg.de', 'title': 'Identifying domains of applicability of machine-Learning models for materials science', 'description': 'In this tutorial, we present a method, based on subgroup discovery, for detecting domains of applicability (DA) of ML models within a materials class. The domain of applicability of an ML model is the region of input space where the model predicts the target property with the smallest uncertainty. The utility of this approach is demonstrated by analyzing three state-of-the-art ML models for predicting the formation energy of transparent conducting oxides.', 'notebook_name': 'domain_of_applicability.ipynb', 'url': 'https://gitlab.mpcdf.mpg.de/nomad-lab/analytics-domain-of-applicability', 'link': 'https://analytics-toolkit.nomad-coe.eu/hub/user-redirect/notebooks/tutorials/domain_of_applicability.ipynb', 'link_public': 'https://analytics-toolkit.nomad-coe.eu/public/user-redirect/notebooks/tutorials/domain_of_applicability.ipynb', 'link_paper': ' https://th.fhi-berlin.mpg.de/site/uploads/Publications/s41467-020-17112-9.pdf', 'link_doi_paper': '10.1038/s41467-020-17112-9', 'updated': '2021-01-27', 'flags': {'featured': True, 'top_of_list': False, 'paper': True}, 'labels': {'application_section': ['Timely artificial-intelligence applications to materials science'], 'application_system': ['Transparent conducting oxides'], 'category': ['advanced tutorial'], 'ai_methods': ['Supervised learning', 'Regression', 'Subgroup discovery', 'Kernel ridge regression', 'SOAP', 'MBTR', 'n-gram'], 'platform': ['jupyter']}}, {'authors': ['Langer, Marcel F.'], 'email': 'langer@fhi-berlin.mpg.de', 'title': 'cmlkit: Toolkit for Machine Learning in Materials Science and Quantum Chemistry', 'description': 'In this tutorial, we will get to know cmlkit, a python package for specifying, evaluating, and optimising machine learning models, and use it to compete in the Nomad 2018 Kaggle challenge.', 'notebook_name': 'cmlkit.ipynb', 'url': 'https://gitlab.mpcdf.mpg.de/nomad-lab/analytics-cmlkit', 'link': 'https://analytics-toolkit.nomad-coe.eu/hub/user-redirect/notebooks/tutorials/cmlkit.ipynb', 'link_public': 'https://analytics-toolkit.nomad-coe.eu/public/user-redirect/notebooks/tutorials/cmlkit.ipynb', 'link_paper': 'https://arxiv.org/pdf/2003.12081.pdf', 'link_doi_paper': '10.48550/arXiv.2003.12081', 'updated': '2021-01-14', 'flags': {'featured': True, 'top_of_list': False}, 'labels': {'application_section': ['Tutorials for artificial-intelligence methods'], 'application_system': ['Transparent conducting oxides'], 'category': ['advanced tutorial'], 'ai_methods': ['Supervised learning', 'Regression', 'Kernel ridge regression', 'SOAP', 'MBTR', 'Symmetry functions'], 'platform': ['jupyter']}}, {'authors': ['Foppa, Lucas', 'Hassanzada, Qaem', 'Bartel, Christopher', 'Purcell, Thomas A. R.', 'Sbailò, Luigi', 'Ghiringhelli, Luca M.'], 'email': 'ghiringhelli@fhi-berlin.mpg.de', 'title': 'Finding a tolerance factor to predict perovskite stability with SISSO', 'description': 'This tutorial shows how a tolerance factor for predicting perovskite stability can be learned from data with the sure-independece-screening-and-sparsifying-operator (SISSO) descriptor-identification approach.', 'notebook_name': 'perovskites_tolerance_factor.ipynb', 'url': 'https://gitlab.mpcdf.mpg.de/nomad-lab/analytics-perovskite-tolerance-factor', 'link': 'https://analytics-toolkit.nomad-coe.eu/hub/user-redirect/notebooks/tutorials/perovskites_tolerance_factor.ipynb', 'link_public': 'https://analytics-toolkit.nomad-coe.eu/public/user-redirect/notebooks/tutorials/perovskites_tolerance_factor.ipynb', 'link_paper': 'https://advances.sciencemag.org/content/advances/5/2/eaav0693.full.pdf', 'link_doi_paper': '10.1126/sciadv.aav0693', 'updated': '2022-05-18', 'flags': {'featured': True, 'top_of_list': False, 'paper': True}, 'labels': {'application_section': ['Timely artificial-intelligence applications to materials science'], 'category': ['advanced tutorial'], 'application_system': ['Perovskite'], 'ai_methods': ['Supervised learning', 'Classification', 'Symbolic regression', 'Compressed sensing', 'SISSO', 'Decision tree', 'Features selection', 'Atomic features'], 'platform': ['jupyter']}}, {'authors': ['Ahmetcik, Emre', 'Ziletti, Angelo', 'Ouyang, Runhai', 'Sbailò, Luigi', 'Scheffler, Matthias', 'Ghiringhelli, Luca M.'], 'email': 'ghiringhelli@fhi-berlin.mpg.de', 'title': 'Symbolic regression via compressed sensing: a tutorial', 'description': 'In this tutorial we will show how to find descriptive parameters to predict materials properties using symbolic regrression combined with compressed sensing tools. The relative stability of the zincblende (ZB) versus rocksalt (RS) structure of binary materials is predicted and compared against a model trained with kernel ridge regression.', 'notebook_name': 'compressed_sensing.ipynb', 'url': 'https://gitlab.mpcdf.mpg.de/nomad-lab/analytics-compressed-sensing', 'link': 'https://analytics-toolkit.nomad-coe.eu/hub/user-redirect/notebooks/tutorials/compressed_sensing.ipynb', 'link_public': 'https://analytics-toolkit.nomad-coe.eu/public/user-redirect/notebooks/tutorials/compressed_sensing.ipynb', 'link_video': 'https://www.youtube.com/watch?v=73mLp6C2opY', 'link_paper': 'https://th.fhi-berlin.mpg.de/site/uploads/Publications/NJP-19-023017-2017.pdf', 'link_doi_paper': '10.1088/1367-2630/aa57bf', 'updated': '2020-09-20', 'flags': {'featured': True, 'top_of_list': False}, 'labels': {'application_keyword': [], 'application_section': ['Tutorials for artificial-intelligence methods'], 'application_system': ['Octet binaries'], 'category': ['beginner tutorial'], 'ai_methods': ['Supervised learning', 'Regression', 'Compressed sensing', 'Symbolic regression', 'LASSO', 'SISSO', 'Kernel ridge regression', 'Features selection', 'Atomic features'], 'platform': ['jupyter']}}, {'authors': ['Sbailò, Luigi', 'Scheffler, Matthias', 'Ghiringhelli, Luca M.'], 'email': 'ghiringhelli@fhi-berlin.mpg.de', 'title': 'Querying the NOMAD Archive and performing artificial-intelligence modeling', 'description': 'In this tutorial, we demonstrate how to query the NOMAD Archive from the NOMAD Analytics toolkit. We then show examples of machine learning analysis performed on the retrieved data set.', 'notebook_name': 'query_nomad_archive.ipynb', 'url': 'https://gitlab.mpcdf.mpg.de/nomad-lab/analytics-query-nomad-archive', 'link': 'https://analytics-toolkit.nomad-coe.eu/hub/user-redirect/notebooks/tutorials/query_nomad_archive.ipynb', 'link_public': 'https://analytics-toolkit.nomad-coe.eu/public/user-redirect/notebooks/tutorials/query_nomad_archive.ipynb', 'updated': '2021-04-14', 'flags': {'featured': True, 'top_of_list': False}, 'labels': {'application_section': ['Analysing the content of the Archive'], 'application_system': ['Ternaries'], 'category': ['query tutorial'], 'ai_methods': ['Unsupervised learning', 'Supervised learning', 'Regression', 'Clustering', 'Dimensionality reduction', 'Random forest'], 'platform': ['jupyter']}}, {'authors': ['Speckhard, Daniel', 'Leitherer, Andreas', 'Ghiringhelli, Luca M.'], 'email': 'speckhard@fhi-berlin.mpg.de', 'title': 'Introduction to decision-trees methods', 'description': 'In this tutorial we will introduce decision trees. We go through a toy model introducing the SKLearn API. We then discuss step by step the different theoretical aspects of trees. We then move to training a regression tree and classification tree on different datasets related to materials science. We end the tutorial by covering random forests and bagging classfiers.', 'notebook_name': 'decision_tree.ipynb', 'url': 'https://gitlab.mpcdf.mpg.de/nomad-lab/analytics-decision-tree', 'link': 'https://analytics-toolkit.nomad-coe.eu/hub/user-redirect/notebooks/tutorials/decision_tree.ipynb', 'link_public': 'https://analytics-toolkit.nomad-coe.eu/public/user-redirect/notebooks/tutorials/decision_tree.ipynb', 'link_video': 'https://www.youtube.com/watch?v=YBy9STVaqvU', 'updated': '2020-12-08', 'flags': {'featured': True, 'top_of_list': False}, 'labels': {'application_section': ['Tutorials for artificial-intelligence methods'], 'application_system': ['Images', 'Metals', 'Insulators', 'matbench_expt_is_metal'], 'category': ['beginner tutorial'], 'ai_methods': ['Supervised learning', 'Regression', 'Classification', 'Decision tree', 'Random forest', 'Bagging classifier', 'Atomic features'], 'platform': ['jupyter']}}, {'authors': ['Sbailò, Luigi', 'Ghiringhelli, Luca M.'], 'email': 'sbailo@fhi-berlin.mpg.de', 'title': 'Introduction to exploratory analysis (unsupervised learning) of materials spaces', 'description': 'Exploratory analyses make use of unsupervised learning techniques to extract information from unknown datasets. In this tutorial, we make use of some of the most popular clustering and dimension reduction algorithms to analyze a dataset composed of 82 octet-binary compounds.', 'notebook_name': 'exploratory_analysis.ipynb', 'url': 'https://gitlab.mpcdf.mpg.de/nomad-lab/analytics-exploratory-analysis', 'link': 'https://analytics-toolkit.nomad-coe.eu/hub/user-redirect/notebooks/tutorials/exploratory_analysis.ipynb', 'link_public': 'https://analytics-toolkit.nomad-coe.eu/public/user-redirect/notebooks/tutorials/exploratory_analysis.ipynb', 'link_video': 'https://www.youtube.com/watch?v=EJTjF9ehp7k', 'updated': '2021-02-04', 'flags': {'featured': True, 'top_of_list': False}, 'labels': {'application_section': ['Tutorials for artificial-intelligence methods'], 'application_system': ['Octet binaries'], 'category': ['beginner tutorial'], 'ai_methods': ['Clustering', 'Dimensionality reduction', 'k-means', 'Hierarchical clustering', 'DBSCAN', 'HDBSCAN', 'DenPeak', 'PCA', 't-SNE', 'MDS'], 'platform': ['jupyter']}}, {'authors': ['Leitherer, Andreas', 'Ziletti, Angelo', 'Ghiringhelli, Luca M.'], 'email': 'leitherer@fhi-berlin.mpg.de', 'title': 'ARISE - Robust recognition and exploratory analysis of crystal structures via Bayesian deep learning', 'description': 'In this tutorial, we give an introduction to ARISE (ARtificial-Intelligence-based Structure Evaluation), a powerful Bayesian-deep-neural-network tool for the recognition of atomistic structures (A. Leitherer, A. Ziletti, and L.M. Ghiringhelli, Nat. Commun. 12, 6234, 2021). ARISE is robust to structural noise and can treat more than 100 crystal structures, a number that can be extended on demand. While being trained on ideal structures only, ARISE correctly characterizes strongly perturbed single- and polycrystalline systems, from both synthetic and experimental resources. The probabilistic nature of the Bayesian-deep-learning model allows to obtain principled uncertainty estimates. By applying unsupervised learning to the internal neural-network representations, one can reveal grain boundaries and (unapparent) structural regions sharing easily interpretable geometrical properties.', 'notebook_name': 'ARISE.ipynb', 'url': 'https://gitlab.mpcdf.mpg.de/nomad-lab/analytics-tutorial-template', 'link': 'https://analytics-toolkit.nomad-coe.eu/hub/user-redirect/notebooks/tutorials/ARISE.ipynb', 'link_public': 'https://analytics-toolkit.nomad-coe.eu/public/user-redirect/notebooks/tutorials/ARISE.ipynb', 'link_paper': 'https://www.nature.com/articles/s41467-021-26511-5.pdf', 'link_doi_paper': '10.1038/s41467-021-26511-5', 'updated': '2021-03-22', 'flags': {'featured': True, 'top_of_list': False, 'paper': True}, 'labels': {'application_section': ['Timely artificial-intelligence applications to materials science'], 'application_system': ['Grain boundaries', 'Binaries', 'Ternaries', 'Low-dimensional materials'], 'category': ['advanced tutorial'], 'ai_methods': ['Supervised learning', 'Neural networks', 'Bayesian deep learning', 'Unsupervised learning', 'Clustering', 'Dimensionality reduction', 'HDBSCAN', 'UMAP', 'SOAP'], 'platform': ['jupyter']}}, {'authors': ['Fekete, Ádám', 'Stella, Martina', 'Lambert, Henry', 'De Vita, Alessandro', 'Csányi, Gábor'], 'email': 'adam.fekete@kcl.ac.uk', 'title': 'The SOAP descriptor, Gaussian Approximation Potentials (GAP) and machine learning of force fields', 'description': 'In this tutorial, we will be using a Gaussian Approximation Potentials to analyse results of TB DFT calculations on the Si surface. Along the way we will learn about different descriptors (2b, 3b, SOAP) to describe local atomic environment in order to predict energies and forces of the Si surface.', 'notebook_name': 'gap_si_surface.ipynb', 'url': 'https://gitlab.mpcdf.mpg.de/nomad-lab/analytics-gap-si-surface', 'link': 'https://analytics-toolkit.nomad-coe.eu/hub/user-redirect/notebooks/tutorials/gap_si_surface.ipynb', 'link_public': 'https://analytics-toolkit.nomad-coe.eu/public/user-redirect/notebooks/tutorials/gap_si_surface.ipynb', 'updated': '2020-06-18', 'flags': {'featured': True, 'top_of_list': False}, 'labels': {'application_section': ['Tutorials for artificial-intelligence methods'], 'application_system': ['Silicon', 'Surface'], 'category': ['intermediate tutorial'], 'ai_methods': ['Supervised learning', 'Regression', 'Gaussian process regression', 'Kernel ridge regression', 'SOAP', 'Gaussian approximation potentials (GAP)'], 'platform': ['jupyter']}}, {'authors': ['Hassanzada, Qaem', 'Ghiringhelli, Luca M.'], 'email': 'ghiringhelli@fhi-berlin.mpg.de', 'title': 'An introduction to support-vector machine for classification', 'description': 'In this tutorial...', 'notebook_name': 'svm_classification.ipynb', 'url': 'https://gitlab.mpcdf.mpg.de/nomad-lab/analytics-svm_classification', 'link': 'https://analytics-toolkit.nomad-coe.eu/hub/user-redirect/notebooks/tutorials/svm_classification.ipynb', 'link_public': 'https://analytics-toolkit.nomad-coe.eu/public/user-redirect/notebooks/tutorials/svm_classification.ipynb', 'updated': '2022-03-31', 'flags': {'featured': True, 'top_of_list': False}, 'labels': {'application_keyword': ['SVM'], 'application_section': ['Materials property prediction'], 'application_system': ['Perovskite'], 'category': ['beginner tutorial'], 'ai_methods': ['SVM'], 'platform': ['jupyter']}}, {'authors': ['Mazheika, Aliaksei', 'Sbailò, Luigi', 'Ghiringhelli, Luca M.', 'Levchenko, Sergey V.', 'Scheffler, Matthias'], 'email': 'mazheika@fhi-berlin.mpg.de', 'title': 'Subgroup discovery of catalysts’ genes for carbon-dioxide activation on semiconductor oxides', 'description': 'In this interactive tutorial we show the application of subgroup discovery for the search for indicators of carbond-dioxide activation with the aim of its further conversion.', 'notebook_name': 'CO2_SGD.ipynb', 'url': 'https://gitlab.mpcdf.mpg.de/nomad-lab/analytics-co2-sgd-tutorial', 'link': 'https://analytics-toolkit.nomad-coe.eu/hub/user-redirect/notebooks/tutorials/CO2_SGD.ipynb', 'link_public': 'https://analytics-toolkit.nomad-coe.eu/public/user-redirect/notebooks/tutorials/CO2_SGD.ipynb', 'link_paper': 'https://arxiv.org/pdf/1912.06515', 'link_doi_paper': '10.48550/arXiv.1912.06515', 'updated': '2021-08-26', 'flags': {'featured': True, 'top_of_list': False}, 'labels': {'application_section': ['Timely artificial-intelligence applications to materials science'], 'application_system': ['CO2 activation', 'Heterogeneous catalysis', 'Semicondictor oxides'], 'category': ['advanced tutorial'], 'ai_methods': ['Subgroup discovery', 'Decision tree'], 'platform': ['jupyter']}}, {'authors': ['Foppa, Lucas', 'Ghiringhelli, Luca M.', 'Scheffler, Matthias'], 'email': 'foppa@fhi-berlin.mpg.de', 'title': 'Learning Design Rules for Catalysts from High-Throughput Experimentation and Theory via Subgroup Discovery', 'description': 'This tutorial explores the application of subgroup discovery (SGD) to an experimental-theoretical data set in order to identify rules on key physicochemical parameters that describe the materials and environmental conditions associated with outstanding performance in heterogeneous catalysis.', 'notebook_name': 'sgd_propylene_oxidation_hte.ipynb', 'url': 'https://gitlab.mpcdf.mpg.de/nomad-lab/analytics-sgd-propylene-oxidation-hte', 'link': 'https://analytics-toolkit.nomad-coe.eu/hub/user-redirect/notebooks/tutorials/sgd_propylene_oxidation_hte.ipynb', 'link_public': 'https://analytics-toolkit.nomad-coe.eu/public/user-redirect/notebooks/tutorials/sgd_propylene_oxidation_hte.ipynb', 'link_paper': 'https://pubs.acs.org/doi/10.1021/acscatal.1c04793', 'link_doi_paper': '10.1021/acscatal.1c04793', 'updated': '2022-2-09', 'flags': {'featured': True, 'top_of_list': False}, 'labels': {'application_section': ['Timely artificial-intelligence applications to materials science'], 'application_system': ['Heterogeneous catalysis'], 'category': ['advanced tutorial'], 'ai_methods': ['Subgroup discovery'], 'platform': ['jupyter']}}, {'authors': ['Liu, Xiangyue', 'Sutton, Christopher', 'Yamamoto, Takenori', 'Blumenthal, Lars', 'Golebiowski, Jacek', 'Ziletti, Angelo', 'Scheffler, Matthias', 'Ghiringhelli, Luca M.'], 'email': 'ghiringhelli@fhi-berlin.mpg.de', 'title': '2018 NOMAD-Kaggle research competition', 'description': 'In this tutorial, we will explore the best results of the NOMAD 2018 Kaggle research competition. The goal of this competition was to develop machine-learning models for the prediction of two target properties: the formation energy and the bandgap energy of transparent semiconducting oxides. The purpose of the modelling is to facilitate the discovery of new such materials and allow for advancements in (opto)electronic technologies', 'notebook_name': 'kaggle_competition.ipynb', 'url': 'https://gitlab.mpcdf.mpg.de/nomad-lab/analytics-kaggle-competition', 'link': 'https://analytics-toolkit.nomad-coe.eu/hub/user-redirect/notebooks/tutorials/kaggle_competition.ipynb', 'link_public': 'https://analytics-toolkit.nomad-coe.eu/public/user-redirect/notebooks/tutorials/kaggle_competition.ipynb', 'link_paper': 'https://th.fhi.mpg.de/site/uploads/Publications/s41524-019-0239-3.pdf', 'link_doi_paper': '10.1038/s41524-019-0239-3', 'updated': '2021-01-19', 'flags': {'featured': True, 'top_of_list': False}, 'labels': {'application_section': ['Timely artificial-intelligence applications to materials science'], 'application_system': ['Transparent conducting oxides'], 'category': ['advanced tutorial'], 'ai_methods': ['Supervised learning', 'Regression', 'Kernel ridge regression', 'Neural networks', 'SOAP', 'n-gram'], 'platform': ['jupyter']}}, {'authors': ['Naik ,Aakash A.', 'Sbailò, Luigi', 'Ahmetcik, Emre', 'Ziletti, Angelo', 'Ouyang, Runhai', 'Ghiringhelli, Luca M.', 'Scheffler, Matthias'], 'email': 'ghiringhelli@fhi-berlin.mpg.de', 'title': 'Predicting the metal-insulator classification of elements and binary systems', 'description': 'This tutorial shows how to find descriptive parameters (short formulas) for the classification of materials properties. As an example, we address the classification of elemental and binary systems Ax\\u200b\\u200bBy\\u200b\\u200b into metals and non metals using experimental data extracted from the SpringerMaterials data base. The method is based on the algorithm sure independence screening and sparsifying operator (SISSO), which enables to search for optimal descriptors by scanning huge feature spaces. ', 'url': 'https://gitlab.mpcdf.mpg.de/nomad-lab/analytics-metalinsulator-prm2018', 'link': '', 'link_public': '', 'updated': '2021-12-1', 'flags': {'featured': True, 'top_of_list': False}, 'labels': {'application_section': ['Timely artificial-intelligence applications to materials science'], 'application_system': ['Binaries', 'Elements'], 'category': ['advanced tutorial'], 'ai_methods': ['SISSO', 'Classification'], 'platform': ['jupyter']}}, {'authors': ['Ziletti, Angelo', 'Leitherer, Andreas', 'Ghiringhelli, Luca M.'], 'email': 'ghiringhelli@fhi-berlin.mpg.de', 'title': 'Introduction to convolutional neural networks', 'description': 'In this tutorial, we briefly introduce the main ideas behind convolutional neural networks, build a neural network model with Keras, and explain the classification decision process using attentive response maps.', 'notebook_name': 'convolutional_nn.ipynb', 'url': 'https://gitlab.mpcdf.mpg.de/nomad-lab/analytics-convolutional-nn', 'link': 'https://analytics-toolkit.nomad-coe.eu/hub/user-redirect/notebooks/tutorials/convolutional_nn.ipynb', 'link_public': 'https://analytics-toolkit.nomad-coe.eu/public/user-redirect/notebooks/tutorials/convolutional_nn.ipynb', 'link_video': 'https://youtu.be/MST8X1yCWK8', 'updated': '2021-01-29', 'flags': {'featured': True, 'top_of_list': False}, 'labels': {'application_section': ['Tutorials for artificial-intelligence methods'], 'application_system': ['Images'], 'category': ['intermediate tutorial'], 'ai_methods': ['Supervised learning', 'Classification', 'Neural networks', 'Convolutional neural networks', 'Attentive response map'], 'platform': ['jupyter']}}, {'authors': ['Foppa, Lucas', 'Purcell, Thomas A. R.', 'Levchenko, Sergey V.', 'Scheffler, Matthias', 'Ghiringhelli, Luca M.'], 'email': 'foppa@fhi-berlin.mpg.de', 'title': 'Hierarchical symbolic regression for identifying key physical parameters correlated with materials properties', 'description': 'In this notebook, we describe a hierarchical symbolic-regression approach for finding, based on data, analytical expressions relating materials properties to simpler physicochemical parameters associated with the underlying processes governing the properties.', 'notebook_name': 'hierarchical_sisso.ipynb', 'url': 'https://gitlab.mpcdf.mpg.de/nomad-lab/analytics-hierarchical-sisso', 'link': 'https://analytics-toolkit.nomad-coe.eu/hub/user-redirect/notebooks/tutorials/hierarchical_sisso.ipynb', 'link_public': 'https://analytics-toolkit.nomad-coe.eu/public/user-redirect/notebooks/tutorials/hierarchical_sisso.ipynb', 'link_paper': 'https://journals.aps.org/prl/pdf/10.1103/PhysRevLett.129.055301', 'link_doi_paper': '10.1103/PhysRevLett.129.055301', 'updated': '2022-8-3', 'flags': {'featured': True, 'top_of_list': False}, 'labels': {'application_section': ['Timely artificial-intelligence applications to materials science'], 'application_system': ['Bulk properties'], 'category': ['advanced tutorial'], 'ai_methods': ['SISSO'], 'platform': ['jupyter']}}, {'authors': ['Fekete, Ádám', 'Stella, Martina', 'Lambert, Henry', 'De Vita, Alessandro', 'Csányi, Gábor'], 'email': 'adam.fekete@kcl.ac.uk', 'title': 'Structure similarity and structure-property relationship: grain boundaries of alpha-Fe', 'description': 'In this tutorial, we will be using a machine-learning method (clustering) to analyse results of grain-boundary (GB) calculations of alpha-iron. Along the way, we will learn about different methods to describe local atomic environment in order to calculate properties of GBs. We will use these properties to separate the different regions of the GB using clustering methods. Finally we will determine how the energy of the GB is changing according to the angle difference of the regions.', 'notebook_name': 'grain_boundaries.ipynb', 'url': 'https://gitlab.mpcdf.mpg.de/nomad-lab/analytics-grain-boundaries', 'link': 'https://analytics-toolkit.nomad-coe.eu/hub/user-redirect/notebooks/tutorials/grain_boundaries.ipynb', 'link_public': 'https://analytics-toolkit.nomad-coe.eu/public/user-redirect/notebooks/tutorials/grain_boundaries.ipynb', 'link_paper': 'https://www.sciencedirect.com/science/article/pii/S0010465518301450?via%3Dihub', 'link_doi_paper': '10.1016/j.cpc.2018.04.029', 'updated': '2020-01-18', 'flags': {'featured': True, 'top_of_list': False}, 'labels': {'application_section': ['Timely artificial-intelligence applications to materials science'], 'application_system': ['Iron', 'Grain boundaries'], 'category': ['advanced tutorial'], 'ai_methods': ['Unsupervised learning', 'Supervised learning', 'Clustering', 'Regression', 'k-means', 'Gaussian mixture'], 'platform': ['jupyter']}}, {'authors': ['Foppa, Lucas', 'Ghiringhelli, Luca M.', 'Scheffler, Matthias'], 'email': 'foppa@fhi-berlin.mpg.de', 'title': 'Materials genes of heterogeneous catalysis from clean experiments and artificial intelligence', 'description': 'This tutorial explores the application of SISSO to a consistent experimental data set in order to identify the key parameters correlated with the catalyst selectivity in propane oxidation.', 'notebook_name': 'catalysis_MRS2021.ipynb', 'url': 'https://gitlab.mpcdf.mpg.de/nomad-lab/PropaneOxidation', 'link': 'https://analytics-toolkit.nomad-coe.eu/hub/user-redirect/notebooks/tutorials/catalysis_MRS2021.ipynb', 'link_public': 'https://analytics-toolkit.nomad-coe.eu/public/user-redirect/notebooks/tutorials/catalysis_MRS2021.ipynb', 'link_paper': 'https://link.springer.com/article/10.1557/s43577-021-00165-6', 'link_doi_paper': '10.1557/s43577-021-00165-6', 'updated': '2022-6-23', 'flags': {'featured': True, 'top_of_list': False}, 'labels': {'application_section': ['Timely artificial-intelligence applications to materials science'], 'application_system': ['Heterogeneous catalysis'], 'category': ['advanced tutorial'], 'ai_methods': ['SISSO'], 'platform': ['jupyter']}}, {'authors': ['Naik ,Aakash A.', 'Ghiringhelli, Luca M.'], 'email': 'ghiringhelli@fhi-berlin.mpg.de', 'title': 'Atomic-features-package usage demonstration', 'description': 'In this tutorial, we show how the atomic-features-package can be accessed and used to explore the atomic features form various sources and to prepare the input features for machine-learning studies.', 'notebook_name': 'atomic_features.ipynb', 'url': 'https://gitlab.mpcdf.mpg.de/nomad-lab/analytics-atomic-features', 'link': 'https://analytics-toolkit.nomad-coe.eu/hub/user-redirect/notebooks/tutorials/atomic_features.ipynb', 'link_public': 'https://analytics-toolkit.nomad-coe.eu/public/user-redirect/notebooks/tutorials/atomic_features.ipynb', 'updated': '2021-12-07', 'labels': {'application_system': ['Atoms'], 'category': ['query tutorial'], 'platform': ['jupyter'], 'ai_methods': []}}, {'authors': ['Regler, Benjamin', 'Scheffler, Matthias', 'Ghiringhelli, Luca M.'], 'email': 'regler@fhi-berlin.mpg.de', 'title': 'Introduction to total cumulative mutual information', 'description': 'This interactive notebook introduces the concepts and original implementation of total cumulative mutual information (TCMI), as presented in the related publication. The main results of the publication are also reproduced in a hands-on style', 'notebook_name': 'tcmi.ipynb', 'url': 'https://gitlab.mpcdf.mpg.de/nomad-lab/analytics-tcmi', 'link': 'https://analytics-toolkit.nomad-coe.eu/hub/user-redirect/notebooks/tutorials/tcmi.ipynb', 'link_public': 'https://analytics-toolkit.nomad-coe.eu/public/user-redirect/notebooks/tutorials/tcmi.ipynb', 'link_paper': 'https://arxiv.org/pdf/2001.11212', 'link_doi_paper': '10.48550/arXiv.2001.11212', 'updated': '2020-02-06', 'flags': {'featured': True, 'top_of_list': False}, 'labels': {'application_section': ['Tutorials for artificial-intelligence methods'], 'application_system': ['Synthetic data', 'UCI regression dataset', 'Octet binaries'], 'category': ['advanced tutorial'], 'ai_methods': ['Supervised learning', 'Unsupervised learning', 'Features selection', 'Information theory', 'Mutual information', 'Cumulative entropy', 'Clustering', 'TCMI'], 'language': ['python'], 'platform': ['jupyter']}}, {'authors': ['Csányi, Gábor', 'Kermode, James R.'], 'email': 'gc121@cam.ac.uk', 'title': 'Machine learning atomic charges', 'description': 'In this tutorial, we will use Gaussian process regression, GPR (or equivalently, Kernel Ridge Regression, KRR) to train and predict charges on atoms in small organic molecules.', 'notebook_name': 'soap_atomic_charges.ipynb', 'url': 'https://gitlab.mpcdf.mpg.de/nomad-lab/analytics-soap-atomic-charges', 'link': 'https://analytics-toolkit.nomad-coe.eu/hub/user-redirect/notebooks/tutorials/soap_atomic_charges.ipynb', 'link_public': 'https://analytics-toolkit.nomad-coe.eu/public/user-redirect/notebooks/tutorials/soap_atomic_charges.ipynb', 'updated': '2019-09-26', 'flags': {'featured': True, 'top_of_list': False}, 'labels': {'application_section': ['Tutorials for artificial-intelligence methods'], 'application_system': ['GDB molecular database', 'GDB7'], 'category': ['intermediate tutorial'], 'ai_methods': ['Supervised learning', 'Regression', 'Gaussian process regression', 'Kernel ridge regression', 'SOAP'], 'platform': ['jupyter']}}, {'authors': ['Oehlers, Milena', 'Sbailò, Luigi'], 'email': 'milenaoehlers@gmail.com', 'title': 'Proto- and Archetype Clustering-based SISSO', 'description': 'In this tutorial two clustering methods, namely unsupervised k-means and supervised deep-aa, will be used to extract proto- and archetypes, respectively, along with corresponding clusters. The set of proto- or archetypes can be used as a substantially reduced training set for Single-Task SISSO, which outperforms random selection, while the corresponding clusters allow for an educated material2task-assignment of all training and test materials for Multi-Task SISSO, whose training on the whole training set outperforms corresponding training of Single-Task SISSO.', 'notebook_name': 'proto_archetype_clustering_sisso.ipynb', 'url': 'https://gitlab.mpcdf.mpg.de/nomad-lab/proto_archetype_clustering_sisso', 'link': 'https://analytics-toolkit.nomad-coe.eu/hub/user-redirect/notebooks/tutorials/proto_archetype_clustering_sisso.ipynb', 'link_public': 'https://analytics-toolkit.nomad-coe.eu/public/user-redirect/notebooks/tutorials/proto_archetype_clustering_sisso.ipynb', 'updated': '2021-12-20', 'flags': {'featured': False, 'top_of_list': False}, 'labels': {'application_keyword': ['k-means', 'deep-aa', 'SISSO', 'sisso', 'archetypes', 'prototypes', 'clustering', 'training set reduction', 'multi-task', 'single-task', 'unsupervised', 'supervised'], 'application_section': ['Tutorials for artificial-intelligence methods'], 'application_system': ['System'], 'category': ['beginner tutorial'], 'ai_methods': ['Clustering', 'SISSO'], 'platform': ['jupyter']}}, {'authors': ['Leitherer, Andreas', 'Sbailò, Luigi', 'Ghiringhelli, Luca M.'], 'email': 'leitherer@fhi-berlin.mpg.de', 'title': 'Introduction to multilayer perceptrons (deep neural networks)', 'description': 'In this tutorial, we discuss how multilayer perceptrons, a standard neural-network architecture, can be employed for regression tasks. Specifically, we will use the ElemNet neural-network architecture to predict the volume per atom of inorganic compounds, where the Open Quantum Materials Database (OQMD) is used as a resource.', 'notebook_name': 'nn_regression.ipynb', 'url': 'https://gitlab.mpcdf.mpg.de/nomad-lab/analytics-tutorial-template', 'link': 'https://analytics-toolkit.nomad-coe.eu/hub/user-redirect/notebooks/tutorials/nn_regression.ipynb', 'link_public': 'https://nomad-lab.eu/prod/analytics/public/user-redirect/notebooks/tutorials/nn_regression.ipynb', 'link_video': 'https://www.youtube.com/watch?v=U0lI5n8Hleo', 'updated': '2021-01-29', 'flags': {'featured': True, 'top_of_list': False}, 'labels': {'application_section': ['Materials property prediction'], 'application_system': ['Inorganic compounds', 'OQMD database'], 'category': ['beginner tutorial'], 'ai_methods': ['Supervised learning', 'Regression', 'Neural networks', 'Deep neural networks', 'Atomic features'], 'platform': ['jupyter']}}, {'authors': ['Langer, Marcel F.'], 'email': 'langer@fhi-berlin.mpg.de', 'title': 'Introduction to kernel ridge regression for materials-property prediction', 'description': 'In this tutorial, we will explore the application of kernel ridge regression to the prediction of materials properties. We will begin with a largely informal, pragmatic introduction to kernel ridge regression, including a rudimentary implementation, in order to become familiar with the basic terminology and considerations. We will then discuss representations, and re-trace the NOMAD 2018 Kaggle challenge.', 'notebook_name': 'krr4mat.ipynb', 'url': 'https://gitlab.mpcdf.mpg.de/nomad-lab/analytics-krr4mat', 'link': 'https://analytics-toolkit.nomad-coe.eu/hub/user-redirect/notebooks/tutorials/krr4mat.ipynb', 'link_public': 'https://analytics-toolkit.nomad-coe.eu/public/user-redirect/notebooks/tutorials/krr4mat.ipynb', 'link_video': 'https://www.youtube.com/watch?v=H_MVlljpYHw', 'updated': '2020-12-15', 'flags': {'featured': True, 'top_of_list': False}, 'labels': {'application_section': ['Tutorials for artificial-intelligence methods'], 'application_system': ['Transparent conducting oxides'], 'category': ['beginner tutorial'], 'ai_methods': ['Supervised learning', 'Regression', 'Kernel ridge regression', 'SOAP'], 'platform': ['jupyter']}}, {'authors': ['Purcell, Thomas A. R.', 'Scheffler, Matthias', 'Ghiringhelli, Luca M.', 'Carbogno, Christian'], 'email': 'purcell@fhi-berlin.mpg.de', 'title': 'Accelerated Materials Exploration via AI-Generated Maps', 'description': 'Notebook recreating the results of the paper by the same title and authors.', 'notebook_name': 'kappa_screening_sisso.ipynb', 'url': 'https://gitlab.mpcdf.mpg.de/nomad-lab/analytics-kappa_L_learning', 'link': 'https://analytics-toolkit.nomad-coe.eu/hub/user-redirect/notebooks/tutorials/kappa_screening_sisso.ipynb', 'link_public': 'https://analytics-toolkit.nomad-coe.eu/public/user-redirect/notebooks/tutorials/kappa_screening_sisso.ipynb', 'updated': '2022-06-17', 'flags': {'featured': True, 'top_of_list': False, 'paper': True}, 'labels': {'application_section': ['Thermal Conductivity'], 'application_system': ['Solid State Crystals'], 'category': ['thermal transport'], 'ai_methods': ['SISSO', 'Sensitivy Analysis'], 'platform': ['jupyter']}}, {'authors': ['Sbailò, Luigi', 'Ghiringhelli, Luca M.'], 'email': 'sbailo@fhi-berlin.mpg.de', 'title': 'Introduction to clustering', 'description': 'In this tutorial, we introduce to the most popular clustering algorithms. We focus on partitioning, hierarchical and density-based clustering algorithms. The methods are tested on synthetic datasets of increasing complexity', 'notebook_name': 'clustering_tutorial.ipynb', 'url': 'https://gitlab.mpcdf.mpg.de/nomad-lab/analytics-clustering-tutorial', 'link': 'https://analytics-toolkit.nomad-coe.eu/hub/user-redirect/notebooks/tutorials/clustering_tutorial.ipynb', 'link_public': 'https://analytics-toolkit.nomad-coe.eu/public/user-redirect/notebooks/tutorials/clustering_tutorial.ipynb', 'updated': '2021-01-21', 'flags': {'featured': True, 'top_of_list': False}, 'labels': {'application_section': ['Tutorials for artificial-intelligence methods'], 'application_system': ['Synthetic data'], 'category': ['beginner tutorial'], 'ai_methods': ['Unsupervised learning', 'Clustering', 'k-means', 'Hierarchical clustering', 'DBSCAN', 'HDBSCAN'], 'platform': ['jupyter']}}, {'authors': ['Foppa, Lucas', 'Ghiringhelli, Luca M.'], 'email': 'foppa@fhi-berlin.mpg.de', 'title': 'Introduction to subgroup discovery: Identifying outstanding transition-metal-alloy catalysts', 'description': 'This tutorial introduces, by means of two applications in materials science, the artificial-intelligence technique subgroup discovery.', 'notebook_name': 'sgd_alloys_oxygen_reduction_evolution.ipynb', 'url': 'https://gitlab.mpcdf.mpg.de/nomad-lab/analytics-sgd-alloys-oxygen-reduction-evolution', 'link': 'https://analytics-toolkit.nomad-coe.eu/hub/user-redirect/notebooks/tutorials/sgd_alloys_oxygen_reduction_evolution.ipynb', 'link_public': 'https://analytics-toolkit.nomad-coe.eu/public/user-redirect/notebooks/tutorials/sgd_alloys_oxygen_reduction_evolution.ipynb', 'link_paper': 'https://link.springer.com/content/pdf/10.1007/s11244-021-01502-4.pdf', 'link_doi_paper': '10.1007/s11244-021-01502-4', 'updated': '2021-10-28', 'flags': {'featured': True, 'top_of_list': False}, 'labels': {'application_section': ['Timely artificial-intelligence applications to materials science'], 'application_system': ['Heterogeneous catalysis', 'Oxygen evolution reaction', 'Oxygen reduction reaction', 'Scaling relations'], 'category': ['intermediate tutorial'], 'ai_methods': ['Subgroup discovery', 'Decision tree'], 'platform': ['jupyter']}}, {'authors': ['Gabaj, Šimon', 'Kuban, Martin', 'Rigamonti, Santiago', 'Draxl, Claudia'], 'email': 'gabajsim@physik.hu-berlin.de', 'title': 'Electronic density-of-states similarity search', 'description': 'This notebook shows how to compute the similarity of materials in terms of their electronic density-of-states (DOS), from data retrieved from the NOMAD Archive.', 'notebook_name': 'dos_similarity_search.ipynb', 'url': 'https://gitlab.mpcdf.mpg.de/nomad-lab/analytics-dos-similarity-search', 'link': 'https://analytics-toolkit.nomad-coe.eu/hub/user-redirect/notebooks/tutorials/dos_similarity_search.ipynb', 'link_public': 'https://analytics-toolkit.nomad-coe.eu/public/user-redirect/notebooks/tutorials/dos_similarity_search.ipynb', 'updated': '2022-3-30', 'flags': {'featured': True, 'top_of_list': False, 'paper': False}, 'labels': {'application_section': ['Tutorials for artificial-intelligence methods'], 'application_system': ['Binaries', 'Ternaries'], 'category': ['intermediate tutorial'], 'ai_methods': ['Similarity search', 'Fingerprint'], 'platform': ['jupyter']}}, {'authors': ['Arif, Mohammad-Yasin', 'Sbailò, Luigi', 'Purcell, Thomas A. R.', 'Ghiringhelli, Luca M.', 'Scheffler, Matthias'], 'email': 'ghiringhelli@fhi-berlin.mpg.de', 'title': 'Predicting energy differences between crystal structures: (Meta-)stability of octet-binary compounds', 'description': 'A tool for predicting the difference in the total energy between different polymorphs for 82 octet binary compounds, which gives an indication of the stability of the material. This is accomplished by identifying a set of descriptive parameters (a descriptor) from the free-atom data for the binary atomic species comprising the material using the Sure Independent Screening (SIS) + l0-norm minimization approach.', 'notebook_name': 'descriptor_role.ipynb', 'url': 'https://gitlab.mpcdf.mpg.de/nomad-lab/analytics-descriptor-role', 'link': 'https://analytics-toolkit.nomad-coe.eu/hub/user-redirect/notebooks/tutorials/descriptor_role.ipynb', 'link_public': 'https://analytics-toolkit.nomad-coe.eu/public/user-redirect/notebooks/tutorials/descriptor_role.ipynb', 'link_paper': 'https://th.fhi.mpg.de/site/uploads/Publications/PRL-114-105503-2015.pdf', 'link_doi_paper': '10.1103/PhysRevLett.114.105503', 'updated': '2021-10-18', 'flags': {'featured': True, 'top_of_list': False}, 'labels': {'application_section': ['Timely artificial-intelligence applications to materials science'], 'application_system': ['Octet binaries', 'Rock salt', 'Zinc blende'], 'category': ['advanced tutorial'], 'ai_methods': ['Supervised learning', 'Regression', 'Features selection', 'SISSO', 'Atomic features'], 'platform': ['jupyter']}}, {'authors': ['Bieniek, Björn', 'Strange, Mikkel', 'Carbogno, Christian', 'Arif, Mohammad-Yasin', 'Sbailò, Luigi', 'Scheffler, Matthias'], 'email': 'ghiringhelli@fhi-berlin.mpg.de', 'title': 'Error estimates from high-accuracy electronic-structure reference calculations', 'description': 'A set of tools to analyze the error in electronic structure calculations due to the choice of numerical settings. We use the NOMAD infrastructure to systematically investigate the deviances in total and relative energies as function of typical settings for basis sets, k-grids, etc. for 71 elemental and 81 binary solids in three different electronic-structure codes.', 'notebook_name': 'error_estimates.ipynb', 'url': 'https://gitlab.mpcdf.mpg.de/nomad-lab/analytics-error-estimates', 'link': 'https://analytics-toolkit.nomad-coe.eu/hub/user-redirect/notebooks/tutorials/error_estimates.ipynb', 'link_public': 'https://analytics-toolkit.nomad-coe.eu/public/user-redirect/notebooks/tutorials/error_estimates.ipynb', 'link_paper': 'https://th.fhi-berlin.mpg.de/site/uploads/Publications/2008.10402.pdf', 'link_doi_paper': '10.48550/arXiv.2008.10402', 'updated': '2021-01-21', 'flags': {'featured': True, 'top_of_list': False}, 'labels': {'application_section': ['Timely artificial-intelligence applications to materials science'], 'category': ['advanced tutorial'], 'application_system': ['Binaries', 'Elemental solids'], 'ai_methods': ['Supervised learning', 'Regression', 'Linear least-squares regression'], 'platform': ['jupyter']}}, {'authors': ['Sbailò, Luigi', 'Purcell, Thomas A. R.', 'Ghiringhelli, Luca M.', 'Scheffler, Matthias'], 'email': 'ghiringhelli@fhi-berlin.mpg.de', 'title': 'Discovery of new topological insulators in alloyed tetradymites', 'description': \"Learn how to find descriptive parameters (short formulas) that predict whether alloyed materials are topological or trivial insulators, using the example of tetradymites. This notebook is based on the algorithm 'sure independence screening and sparsifying operator' (SISSO) that enables to search for optimal descriptor by scanning huge feature spaces.\", 'notebook_name': 'tetradymite_PRM2020.ipynb', 'url': 'https://gitlab.mpcdf.mpg.de/nomad-lab/analytics-tetradymite-PRM2020', 'link': 'https://analytics-toolkit.nomad-coe.eu/hub/user-redirect/notebooks/tutorials/tetradymite_PRM2020.ipynb', 'link_public': 'https://analytics-toolkit.nomad-coe.eu/public/user-redirect/notebooks/tutorials/tetradymite_PRM2020.ipynb', 'link_paper': 'https://th.fhi.mpg.de/site/uploads/Publications/PhysRevMaterials.4.034204.pdf', 'link_doi_paper': '10.1103/PhysRevMaterials.4.034204', 'updated': '2020-09-15', 'flags': {'featured': True, 'top_of_list': False}, 'labels': {'application_section': ['Timely artificial-intelligence applications to materials science'], 'application_system': ['Tetradymites', 'Topological insulators'], 'category': ['advanced tutorial'], 'ai_methods': ['Supervised learning', 'Classification', 'Symbolic regression', 'Features selection', 'Atomic features', 'SISSO'], 'platform': ['jupyter']}}]\n"
     ]
    }
   ],
   "source": [
    "import json\n",
    "\n",
    "with open('tutorials.json', 'r') as f:\n",
    "  tutorials = json.load(f)['tutorials']\n",
    "\n",
    "print(tutorials)"
   ]
  },
  {
   "cell_type": "code",
   "execution_count": 30,
   "metadata": {},
   "outputs": [
    {
     "data": {
      "text/plain": [
       "{'authors',\n",
       " 'description',\n",
       " 'email',\n",
       " 'flags',\n",
       " 'labels',\n",
       " 'link',\n",
       " 'link_doi_paper',\n",
       " 'link_paper',\n",
       " 'link_public',\n",
       " 'link_video',\n",
       " 'notebook_name',\n",
       " 'title',\n",
       " 'updated',\n",
       " 'url'}"
      ]
     },
     "execution_count": 30,
     "metadata": {},
     "output_type": "execute_result"
    }
   ],
   "source": [
    "keys=set()\n",
    "for tutorial in tutorials:\n",
    "    keys.update(list(tutorial.keys()))\n",
    "keys"
   ]
  },
  {
   "cell_type": "code",
   "execution_count": 31,
   "metadata": {},
   "outputs": [
    {
     "data": {
      "text/plain": [
       "('flags', {'featured', 'paper', 'top_of_list'})"
      ]
     },
     "execution_count": 31,
     "metadata": {},
     "output_type": "execute_result"
    }
   ],
   "source": [
    "keys=set()\n",
    "for tutorial in tutorials:\n",
    "    keys.update(list(tutorial.get('flags',{}).keys()))\n",
    "'flags', keys"
   ]
  },
  {
   "cell_type": "code",
   "execution_count": 32,
   "metadata": {},
   "outputs": [
    {
     "data": {
      "text/plain": [
       "{'ai_methods',\n",
       " 'application_keyword',\n",
       " 'application_section',\n",
       " 'application_system',\n",
       " 'category',\n",
       " 'language',\n",
       " 'platform'}"
      ]
     },
     "execution_count": 32,
     "metadata": {},
     "output_type": "execute_result"
    }
   ],
   "source": [
    "keys=set()\n",
    "for tutorial in tutorials:\n",
    "    keys.update(list(tutorial['labels'].keys()))\n",
    "keys"
   ]
  },
  {
   "cell_type": "code",
   "execution_count": 33,
   "metadata": {},
   "outputs": [
    {
     "data": {
      "text/plain": [
       "{'SISSO',\n",
       " 'SVM',\n",
       " 'archetypes',\n",
       " 'clustering',\n",
       " 'deep-aa',\n",
       " 'k-means',\n",
       " 'multi-task',\n",
       " 'prototypes',\n",
       " 'single-task',\n",
       " 'sisso',\n",
       " 'supervised',\n",
       " 'training set reduction',\n",
       " 'unsupervised'}"
      ]
     },
     "execution_count": 33,
     "metadata": {},
     "output_type": "execute_result"
    }
   ],
   "source": [
    "keys=set()\n",
    "for tutorial in tutorials:\n",
    "    keys.update(list(tutorial.get('labels').get('application_keyword',[])))\n",
    "keys"
   ]
  },
  {
   "cell_type": "code",
   "execution_count": 34,
   "metadata": {},
   "outputs": [
    {
     "data": {
      "text/plain": [
       "{'Analysing the content of the Archive',\n",
       " 'Materials property prediction',\n",
       " 'Thermal Conductivity',\n",
       " 'Timely artificial-intelligence applications to materials science',\n",
       " 'Tutorials for artificial-intelligence methods'}"
      ]
     },
     "execution_count": 34,
     "metadata": {},
     "output_type": "execute_result"
    }
   ],
   "source": [
    "keys=set()\n",
    "for tutorial in tutorials:\n",
    "    keys.update(list(tutorial.get('labels').get('application_section',[])))\n",
    "keys"
   ]
  },
  {
   "cell_type": "code",
   "execution_count": 35,
   "metadata": {},
   "outputs": [
    {
     "data": {
      "text/plain": [
       "{'Atoms',\n",
       " 'Binaries',\n",
       " 'Bulk properties',\n",
       " 'CO2 activation',\n",
       " 'Elemental solids',\n",
       " 'Elements',\n",
       " 'GDB molecular database',\n",
       " 'GDB7',\n",
       " 'Grain boundaries',\n",
       " 'Heterogeneous catalysis',\n",
       " 'Images',\n",
       " 'Inorganic compounds',\n",
       " 'Insulators',\n",
       " 'Iron',\n",
       " 'Low-dimensional materials',\n",
       " 'Metals',\n",
       " 'OQMD database',\n",
       " 'Octet binaries',\n",
       " 'Oxygen evolution reaction',\n",
       " 'Oxygen reduction reaction',\n",
       " 'Perovskite',\n",
       " 'Rock salt',\n",
       " 'Scaling relations',\n",
       " 'Semicondictor oxides',\n",
       " 'Silicon',\n",
       " 'Solid State Crystals',\n",
       " 'Surface',\n",
       " 'Synthetic data',\n",
       " 'System',\n",
       " 'Ternaries',\n",
       " 'Tetradymites',\n",
       " 'Topological insulators',\n",
       " 'Transparent conducting oxides',\n",
       " 'UCI regression dataset',\n",
       " 'Zinc blende',\n",
       " 'matbench_expt_is_metal'}"
      ]
     },
     "execution_count": 35,
     "metadata": {},
     "output_type": "execute_result"
    }
   ],
   "source": [
    "keys=set()\n",
    "for tutorial in tutorials:\n",
    "    keys.update(list(tutorial.get('labels').get('application_system',[])))\n",
    "keys"
   ]
  },
  {
   "cell_type": "code",
   "execution_count": 36,
   "metadata": {},
   "outputs": [
    {
     "data": {
      "text/plain": [
       "{'advanced tutorial',\n",
       " 'beginner tutorial',\n",
       " 'intermediate tutorial',\n",
       " 'query tutorial',\n",
       " 'thermal transport'}"
      ]
     },
     "execution_count": 36,
     "metadata": {},
     "output_type": "execute_result"
    }
   ],
   "source": [
    "keys=set()\n",
    "for tutorial in tutorials:\n",
    "    keys.update(list(tutorial.get('labels').get('category')))\n",
    "keys"
   ]
  },
  {
   "cell_type": "code",
   "execution_count": 37,
   "metadata": {},
   "outputs": [
    {
     "data": {
      "text/plain": [
       "{'Atomic features',\n",
       " 'Attentive response map',\n",
       " 'Bagging classifier',\n",
       " 'Bayesian deep learning',\n",
       " 'Classification',\n",
       " 'Clustering',\n",
       " 'Compressed sensing',\n",
       " 'Convolutional neural networks',\n",
       " 'Cumulative entropy',\n",
       " 'DBSCAN',\n",
       " 'Decision tree',\n",
       " 'Deep neural networks',\n",
       " 'DenPeak',\n",
       " 'Dimensionality reduction',\n",
       " 'Features selection',\n",
       " 'Fingerprint',\n",
       " 'Gaussian approximation potentials (GAP)',\n",
       " 'Gaussian mixture',\n",
       " 'Gaussian process regression',\n",
       " 'HDBSCAN',\n",
       " 'Hierarchical clustering',\n",
       " 'Information theory',\n",
       " 'Kernel ridge regression',\n",
       " 'LASSO',\n",
       " 'Linear least-squares regression',\n",
       " 'MBTR',\n",
       " 'MDS',\n",
       " 'Mutual information',\n",
       " 'Neural networks',\n",
       " 'PCA',\n",
       " 'Random forest',\n",
       " 'Regression',\n",
       " 'SISSO',\n",
       " 'SOAP',\n",
       " 'SVM',\n",
       " 'Sensitivy Analysis',\n",
       " 'Similarity search',\n",
       " 'Subgroup discovery',\n",
       " 'Supervised learning',\n",
       " 'Symbolic regression',\n",
       " 'Symmetry functions',\n",
       " 'TCMI',\n",
       " 'UMAP',\n",
       " 'Unsupervised learning',\n",
       " 'k-means',\n",
       " 'n-gram',\n",
       " 't-SNE'}"
      ]
     },
     "execution_count": 37,
     "metadata": {},
     "output_type": "execute_result"
    }
   ],
   "source": [
    "keys=set()\n",
    "for tutorial in tutorials:\n",
    "    keys.update(list(tutorial.get('labels').get('ai_methods',[])))\n",
    "keys"
   ]
  },
  {
   "cell_type": "code",
   "execution_count": 38,
   "metadata": {},
   "outputs": [
    {
     "data": {
      "text/plain": [
       "{'python'}"
      ]
     },
     "execution_count": 38,
     "metadata": {},
     "output_type": "execute_result"
    }
   ],
   "source": [
    "keys=set()\n",
    "for tutorial in tutorials:\n",
    "    keys.update(list(tutorial.get('labels').get('language',[])))\n",
    "keys"
   ]
  },
  {
   "cell_type": "code",
   "execution_count": 39,
   "metadata": {},
   "outputs": [
    {
     "data": {
      "text/plain": [
       "{'jupyter'}"
      ]
     },
     "execution_count": 39,
     "metadata": {},
     "output_type": "execute_result"
    }
   ],
   "source": [
    "keys=set()\n",
    "for tutorial in tutorials:\n",
    "    keys.update(list(tutorial.get('labels').get('platform')))\n",
    "keys"
   ]
  },
  {
   "cell_type": "code",
   "execution_count": 40,
   "metadata": {},
   "outputs": [
    {
     "data": {
      "text/plain": [
       "{'authors': ['Arif, Mohammad-Yasin', 'Sbailò, Luigi', 'Ghiringhelli, Luca M.'],\n",
       " 'email': 'ghiringhelli@fhi-berlin.mpg.de',\n",
       " 'title': 'Identifying domains of applicability of machine-Learning models for materials science',\n",
       " 'description': 'In this tutorial, we present a method, based on subgroup discovery, for detecting domains of applicability (DA) of ML models within a materials class. The domain of applicability of an ML model is the region of input space where the model predicts the target property with the smallest uncertainty. The utility of this approach is demonstrated by analyzing three state-of-the-art ML models for predicting the formation energy of transparent conducting oxides.',\n",
       " 'notebook_name': 'domain_of_applicability.ipynb',\n",
       " 'url': 'https://gitlab.mpcdf.mpg.de/nomad-lab/analytics-domain-of-applicability',\n",
       " 'link': 'https://analytics-toolkit.nomad-coe.eu/hub/user-redirect/notebooks/tutorials/domain_of_applicability.ipynb',\n",
       " 'link_public': 'https://analytics-toolkit.nomad-coe.eu/public/user-redirect/notebooks/tutorials/domain_of_applicability.ipynb',\n",
       " 'link_paper': ' https://th.fhi-berlin.mpg.de/site/uploads/Publications/s41467-020-17112-9.pdf',\n",
       " 'link_doi_paper': '10.1038/s41467-020-17112-9',\n",
       " 'updated': '2021-01-27',\n",
       " 'flags': {'featured': True, 'top_of_list': False, 'paper': True},\n",
       " 'labels': {'application_section': ['Timely artificial-intelligence applications to materials science'],\n",
       "  'application_system': ['Transparent conducting oxides'],\n",
       "  'category': ['advanced tutorial'],\n",
       "  'ai_methods': ['Supervised learning',\n",
       "   'Regression',\n",
       "   'Subgroup discovery',\n",
       "   'Kernel ridge regression',\n",
       "   'SOAP',\n",
       "   'MBTR',\n",
       "   'n-gram'],\n",
       "  'platform': ['jupyter']}}"
      ]
     },
     "execution_count": 40,
     "metadata": {},
     "output_type": "execute_result"
    }
   ],
   "source": [
    "tutorial = tutorials[0]\n",
    "tutorial\n"
   ]
  },
  {
   "cell_type": "code",
   "execution_count": null,
   "metadata": {},
   "outputs": [],
   "source": []
  },
  {
   "cell_type": "code",
   "execution_count": 41,
   "metadata": {},
   "outputs": [
    {
     "data": {
      "text/plain": [
       "[{'last_name': 'Arif', 'first_name': 'Mohammad-Yasin'},\n",
       " {'last_name': 'Sbailò', 'first_name': 'Luigi'},\n",
       " {'last_name': 'Ghiringhelli',\n",
       "  'first_name': 'Luca M.',\n",
       "  'email': 'ghiringhelli@fhi-berlin.mpg.de'}]"
      ]
     },
     "execution_count": 41,
     "metadata": {},
     "output_type": "execute_result"
    }
   ],
   "source": [
    "authors=[]\n",
    "for author in tutorial.get('authors'):\n",
    "    last_name, first_name = author.split(',', 1)\n",
    "    authors.append({\n",
    "        'last_name':last_name.strip(),\n",
    "        'first_name': first_name.strip()\n",
    "    })\n",
    "\n",
    "authors[-1]['email'] = tutorial.get('email')\n",
    "authors"
   ]
  },
  {
   "cell_type": "code",
   "execution_count": 42,
   "metadata": {},
   "outputs": [],
   "source": [
    "def build_new_tutorial(tutorial):\n",
    "    new = {\n",
    "        \"m_def\": \"nomad_aitoolkit.schema.package.AIToolkitNotebook\",\n",
    "        'name': tutorial['title'],\n",
    "        'description': tutorial['description'],\n",
    "        'date': tutorial['updated'],\n",
    "\n",
    "\n",
    "        # 'notebook_path': tutorial.get('notebook_name', ''),\n",
    "\n",
    "        'category': tutorial['labels']['category'][0],\n",
    "        'methods': [ {'name': v } for v in tutorial['labels']['ai_methods'] ],\n",
    "        'systems': [ {'name': v } for v in tutorial['labels']['application_system'] ],\n",
    "        'platform': 'Python'\n",
    "    }\n",
    "\n",
    "    new['authors'] = []\n",
    "    for author in tutorial['authors']:\n",
    "        last_name, first_name = author.split(',', 1)\n",
    "\n",
    "        new['authors'].append({\n",
    "            'last_name': last_name.strip(),\n",
    "            'first_name': first_name.strip()\n",
    "        })\n",
    "\n",
    "    # print(tutorial.get('email'))\n",
    "    # new['authors'][-1]['email'] = tutorial.get('email')\n",
    "\n",
    "    new['references'] = []\n",
    "\n",
    "    if tutorial.get('link_doi_paper'):\n",
    "        new['related_publications'] = [\n",
    "            {\n",
    "                'DOI_number': tutorial.get('link_doi_paper')\n",
    "            }\n",
    "        ]\n",
    "\n",
    "        new['references'].append(\n",
    "            {\n",
    "                'kind': 'article_doi',\n",
    "                'uri': 'https://doi.org/' + tutorial.get('link_doi_paper')\n",
    "            }\n",
    "        )\n",
    "\n",
    "\n",
    "    if tutorial.get('link'):\n",
    "        new['references'].append(\n",
    "            {\n",
    "                'kind': 'hub',\n",
    "                'uri': tutorial['link']\n",
    "            }\n",
    "        )\n",
    "\n",
    "\n",
    "    if tutorial.get('link_paper'):\n",
    "        new['references'].append(\n",
    "            {\n",
    "                'kind': 'article_url',\n",
    "                'uri': tutorial['link_paper']\n",
    "            }\n",
    "        )\n",
    "\n",
    "\n",
    "    if tutorial.get('url'):\n",
    "        new['references'].append(\n",
    "            {\n",
    "                'kind': 'repository',\n",
    "                'uri': tutorial['url']\n",
    "            }\n",
    "        )\n",
    "\n",
    "    if tutorial.get('link_video'):\n",
    "        new['references'].append(\n",
    "            {\n",
    "                'kind': 'video',\n",
    "                'uri': tutorial['link_video']\n",
    "            }\n",
    "        )\n",
    "\n",
    "    slug = tutorial['url'].rsplit('/', 1)[1]\n",
    "    return slug, {'data': new}\n",
    "\n",
    "\n",
    "for tutorial in tutorials:\n",
    "    slug, new_tutorial = build_new_tutorial(tutorial)\n",
    "\n",
    "    with open(slug+\".archive.json\", \"w\") as outfile:\n",
    "        json.dump(new_tutorial, outfile, indent=4)\n"
   ]
  },
  {
   "cell_type": "code",
   "execution_count": null,
   "metadata": {},
   "outputs": [],
   "source": []
  },
  {
   "cell_type": "code",
   "execution_count": null,
   "metadata": {},
   "outputs": [],
   "source": []
  },
  {
   "cell_type": "code",
   "execution_count": null,
   "metadata": {},
   "outputs": [],
   "source": []
  },
  {
   "cell_type": "code",
   "execution_count": null,
   "metadata": {},
   "outputs": [],
   "source": []
  },
  {
   "cell_type": "code",
   "execution_count": null,
   "metadata": {},
   "outputs": [],
   "source": []
  }
 ],
 "metadata": {
  "kernelspec": {
   "display_name": ".venv",
   "language": "python",
   "name": "python3"
  },
  "language_info": {
   "codemirror_mode": {
    "name": "ipython",
    "version": 3
   },
   "file_extension": ".py",
   "mimetype": "text/x-python",
   "name": "python",
   "nbconvert_exporter": "python",
   "pygments_lexer": "ipython3",
   "version": "3.9.16"
  },
  "orig_nbformat": 4
 },
 "nbformat": 4,
 "nbformat_minor": 2
}
